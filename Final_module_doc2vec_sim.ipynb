{
 "cells": [
  {
   "cell_type": "code",
   "execution_count": null,
   "id": "485c247f",
   "metadata": {},
   "outputs": [],
   "source": [
    "def doc2vec ():\n",
    "    import pandas as pd\n",
    "    from tqdm import tqdm\n",
    "    import os\n",
    "    from konlpy.tag import Mecab\n",
    "    import nltk\n",
    "    from gensim.models.doc2vec import Doc2Vec, TaggedDocument\n",
    "    \n",
    "    df = pd.read_csv('data/dataset_210626_215600.csv')\n",
    "    \n",
    "    model1 = Doc2Vec.load(\"d2v_embedding_models/doc2vec_prac_after_preprocessing.model\")\n",
    "    \n",
    "    x = model1.docvecs.vectors_docs\n",
    "    cnt = 0\n",
    "    for idx, doctag in sorted(model1.docvecs.doctags.items(), key=lambda x:x[1].offset):\n",
    "        if (cnt%10000 == 0):\n",
    "            print(idx, doctag)\n",
    "            \n",
    "    query = mecab.morphs(\"I like the smell of sweet apples.\".lower())\n",
    "    new_vector = model1.infer_vector(query)\n",
    "    sims = model1.docvecs.most_similar([new_vector]) #gives you top 10 document tags and their cosine similarity\n",
    "    \n",
    "    result_list = []\n",
    "    \n",
    "    for i in range(3) :    \n",
    "        result = {\n",
    "        \"review\" : df.iloc[sims[i][0]].review,\n",
    "        \"score\" :sims[i][1]\n",
    "        }\n",
    "        \n",
    "        result_list.append(result)\n",
    "        \n",
    "    return result_list"
   ]
  }
 ],
 "metadata": {
  "kernelspec": {
   "display_name": "Python 3",
   "language": "python",
   "name": "python3"
  },
  "language_info": {
   "codemirror_mode": {
    "name": "ipython",
    "version": 3
   },
   "file_extension": ".py",
   "mimetype": "text/x-python",
   "name": "python",
   "nbconvert_exporter": "python",
   "pygments_lexer": "ipython3",
   "version": "3.7.7"
  }
 },
 "nbformat": 4,
 "nbformat_minor": 5
}
